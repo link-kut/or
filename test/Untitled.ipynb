{
 "cells": [
  {
   "cell_type": "markdown",
   "id": "dutch-footwear",
   "metadata": {},
   "source": [
    "# GCN practice code\n",
    "\n",
    "- import basic library"
   ]
  },
  {
   "cell_type": "code",
   "execution_count": 35,
   "id": "removable-appendix",
   "metadata": {},
   "outputs": [],
   "source": [
    "import torch\n",
    "from torch_geometric.data import Data\n",
    "from torch_geometric.utils import from_networkx\n",
    "\n",
    "import networkx as nx\n",
    "import numpy as np\n",
    "from random import randint, expovariate\n",
    "import matplotlib.pyplot as plt"
   ]
  },
  {
   "cell_type": "markdown",
   "id": "protected-order",
   "metadata": {},
   "source": [
    "- Generate the network"
   ]
  },
  {
   "cell_type": "code",
   "execution_count": 36,
   "id": "communist-tattoo",
   "metadata": {},
   "outputs": [],
   "source": [
    "net = nx.gnm_random_graph(n=20, m=100)\n",
    "\n",
    "min_cpu_capacity = 1.0e10\n",
    "max_cpu_capacity = 0.0\n",
    "for node_id in net.nodes:\n",
    "    net.nodes[node_id]['CPU'] = randint(50, 100)\n",
    "    net.nodes[node_id]['LOCATION'] = randint(0, 2)\n",
    "    if net.nodes[node_id]['CPU'] < min_cpu_capacity:\n",
    "        min_cpu_capacity = net.nodes[node_id]['CPU']\n",
    "    if net.nodes[node_id]['CPU'] > max_cpu_capacity:\n",
    "        max_cpu_capacity = net.nodes[node_id]['CPU']\n",
    "        \n",
    "min_bandwidth_capacity = 1.0e10\n",
    "max_bandwidth_capacity = 0.0\n",
    "for edge_id in net.edges:\n",
    "    net.edges[edge_id]['bandwidth'] = randint(50, 100)\n",
    "    if net.edges[edge_id]['bandwidth'] < min_bandwidth_capacity:\n",
    "        min_bandwidth_capacity = net.edges[edge_id]['bandwidth']\n",
    "    if net.edges[edge_id]['bandwidth'] > max_bandwidth_capacity:\n",
    "        max_bandwidth_capacity = net.edges[edge_id]['bandwidth']"
   ]
  },
  {
   "cell_type": "markdown",
   "id": "bacterial-freedom",
   "metadata": {},
   "source": [
    "- Using 'from_networkx'\n",
    "    - transfer the torch_geometric"
   ]
  },
  {
   "cell_type": "code",
   "execution_count": 37,
   "id": "patent-martin",
   "metadata": {},
   "outputs": [],
   "source": [
    "data = from_networkx(net)"
   ]
  },
  {
   "cell_type": "code",
   "execution_count": 38,
   "id": "innocent-institute",
   "metadata": {},
   "outputs": [
    {
     "name": "stdout",
     "output_type": "stream",
     "text": [
      "Data(CPU=[20], LOCATION=[20], bandwidth=[200], edge_index=[2, 200])\n"
     ]
    }
   ],
   "source": [
    "print(data)"
   ]
  },
  {
   "cell_type": "code",
   "execution_count": 39,
   "id": "outstanding-object",
   "metadata": {},
   "outputs": [
    {
     "name": "stdout",
     "output_type": "stream",
     "text": [
      "data.edge_index.shape: torch.Size([2, 200])\n",
      "data.CPU.shape: torch.Size([20])\n",
      "data.bandwidth.shape: torch.Size([200])\n",
      "-------------------\n",
      "data.edge_index: tensor([[ 0,  0,  0,  0,  0,  0,  0,  0,  0,  1,  1,  1,  1,  1,  1,  1,  1,  1,\n",
      "          1,  1,  1,  1,  1,  2,  2,  2,  2,  2,  2,  2,  2,  2,  2,  3,  3,  3,\n",
      "          3,  3,  3,  3,  3,  3,  4,  4,  4,  4,  4,  4,  4,  5,  5,  5,  5,  5,\n",
      "          5,  5,  5,  5,  5,  5,  5,  6,  6,  6,  6,  6,  6,  6,  6,  6,  6,  6,\n",
      "          7,  7,  7,  7,  7,  7,  7,  7,  7,  8,  8,  8,  8,  8,  8,  8,  8,  8,\n",
      "          8,  8,  9,  9,  9,  9,  9,  9,  9,  9,  9, 10, 10, 10, 10, 10, 10, 10,\n",
      "         10, 10, 10, 11, 11, 11, 11, 11, 11, 12, 12, 12, 12, 12, 12, 13, 13, 13,\n",
      "         13, 13, 13, 13, 13, 13, 13, 13, 13, 13, 13, 14, 14, 14, 14, 14, 14, 14,\n",
      "         14, 14, 14, 14, 15, 15, 15, 15, 15, 15, 15, 15, 15, 15, 16, 16, 16, 16,\n",
      "         16, 16, 16, 16, 16, 16, 16, 17, 17, 17, 17, 17, 17, 17, 17, 17, 17, 17,\n",
      "         17, 17, 17, 18, 18, 18, 18, 18, 18, 19, 19, 19, 19, 19, 19, 19, 19, 19,\n",
      "         19, 19],\n",
      "        [ 6,  1, 19,  8, 14, 13,  7,  9, 17,  0, 16,  6,  2, 11, 10, 12,  4, 17,\n",
      "          5, 13,  7,  3,  9,  1, 14, 19,  5, 13,  6, 16,  3, 18, 17,  1,  2, 11,\n",
      "          7, 18,  5, 14, 13,  8,  1,  8, 12, 13,  6, 19,  7,  1,  2,  3,  9, 12,\n",
      "         13,  6, 19, 17, 14, 15, 16,  0,  1,  2,  4,  5,  7, 13, 14, 17, 12,  8,\n",
      "          0,  1,  3,  4,  6, 10, 19, 17,  8,  0,  3,  4,  6,  7, 16, 19, 10, 13,\n",
      "         17,  9,  0,  1,  5,  8, 13, 16, 17, 12, 15,  1,  7,  8, 11, 13, 14, 16,\n",
      "         15, 18, 17,  1,  3, 10, 17, 15, 19,  1,  4,  5,  6,  9, 17,  0,  1,  2,\n",
      "          3,  4,  5,  6,  8,  9, 10, 15, 16, 17, 14,  0,  2,  3,  5,  6, 10, 13,\n",
      "         17, 15, 16, 19,  5,  9, 10, 11, 13, 14, 16, 19, 17, 18,  1,  2,  5,  8,\n",
      "          9, 10, 13, 14, 15, 18, 19,  0,  1,  2,  5,  6,  7,  8,  9, 10, 11, 12,\n",
      "         13, 14, 15,  2,  3, 10, 15, 16, 19,  0,  2,  4,  5,  7,  8, 11, 14, 15,\n",
      "         16, 18]])\n",
      "data.CPU: tensor([93, 76, 64, 51, 68, 76, 80, 83, 71, 88, 80, 68, 53, 62, 89, 93, 85, 58,\n",
      "        94, 93])\n",
      "data.bandwidth: tensor([ 84,  64,  73,  59,  55,  92,  73,  81,  80,  64,  51,  99,  92,  87,\n",
      "         72,  55,  78,  57,  86,  99,  99,  87,  73,  92,  73,  89,  56,  51,\n",
      "         66,  74,  65,  56,  57,  87,  65,  80,  87,  79,  52,  60,  81,  50,\n",
      "         78,  69,  54,  55,  75,  55,  64,  86,  56,  52,  70,  80,  69,  63,\n",
      "         78, 100,  63,  72,  98,  84,  99,  66,  75,  63,  93,  85,  86,  50,\n",
      "         79,  59,  73,  99,  87,  64,  93,  74,  52,  65,  79,  59,  50,  69,\n",
      "         59,  79,  96,  58,  72,  68,  65,  86,  81,  73,  70,  86,  59,  58,\n",
      "         94,  61,  94,  72,  74,  72,  76,  61,  51,  81,  53,  77,  96,  87,\n",
      "         80,  76,  90,  68,  73,  55,  54,  80,  79,  61,  87,  92,  99,  51,\n",
      "         81,  55,  69,  85,  68,  59,  61,  84,  56,  76,  50,  55,  73,  60,\n",
      "         63,  86,  51,  50,  79,  60,  51,  81,  72,  94,  53,  68,  84,  60,\n",
      "         86,  70,  95,  82,  51,  74,  98,  96,  58,  81,  56,  51,  86,  59,\n",
      "         69,  80,  57,  57, 100,  50,  65,  65,  94,  96,  90,  87,  76,  79,\n",
      "         95,  56,  79,  77,  82,  59,  82,  73,  89,  55,  78,  52,  58,  73,\n",
      "         81,  70,  69,  82])\n"
     ]
    }
   ],
   "source": [
    "print(f'data.edge_index.shape: {data.edge_index.shape}')\n",
    "print(f'data.CPU.shape: {data.CPU.shape}')\n",
    "print(f'data.bandwidth.shape: {data.bandwidth.shape}')\n",
    "print(\"-------------------\")\n",
    "print(f'data.edge_index: {data.edge_index}')\n",
    "print(f'data.CPU: {data.CPU}')\n",
    "print(f'data.bandwidth: {data.bandwidth}')"
   ]
  },
  {
   "cell_type": "code",
   "execution_count": 40,
   "id": "unable-sapphire",
   "metadata": {},
   "outputs": [
    {
     "name": "stdout",
     "output_type": "stream",
     "text": [
      "Dataset: KarateClub():\n",
      "======================\n",
      "Number of graphs: 1\n",
      "Number of features: 34\n",
      "Number of classes: 4\n",
      "Data(edge_index=[2, 156], train_mask=[34], x=[34, 34], y=[34])\n"
     ]
    }
   ],
   "source": [
    "from torch_geometric.datasets import KarateClub\n",
    "\n",
    "dataset = KarateClub()\n",
    "print(f'Dataset: {dataset}:')\n",
    "print('======================')\n",
    "print(f'Number of graphs: {len(dataset)}')\n",
    "print(f'Number of features: {dataset.num_features}')\n",
    "print(f'Number of classes: {dataset.num_classes}')\n",
    "\n",
    "data = dataset[0]  # Get the first graph object.\n",
    "\n",
    "print(data)"
   ]
  },
  {
   "cell_type": "markdown",
   "id": "preceding-colombia",
   "metadata": {},
   "source": [
    "### Graph Convolution Network\n",
    "- Generate the GCN class"
   ]
  },
  {
   "cell_type": "code",
   "execution_count": 41,
   "id": "characteristic-least",
   "metadata": {},
   "outputs": [
    {
     "name": "stdout",
     "output_type": "stream",
     "text": [
      "GCN(\n",
      "  (conv1): GCNConv(34, 4)\n",
      "  (conv2): GCNConv(4, 4)\n",
      "  (conv3): GCNConv(4, 2)\n",
      "  (classifier): Linear(in_features=2, out_features=20, bias=True)\n",
      ")\n"
     ]
    }
   ],
   "source": [
    "from torch.nn import Linear\n",
    "from torch_geometric.nn import GCNConv\n",
    "\n",
    "\n",
    "class GCN(torch.nn.Module):\n",
    "    def __init__(self):\n",
    "        super(GCN, self).__init__()\n",
    "        torch.manual_seed(12345)\n",
    "        self.conv1 = GCNConv(in_channels=data.num_features, out_channels=4)\n",
    "        self.conv2 = GCNConv(in_channels=4, out_channels=4)\n",
    "        self.conv3 = GCNConv(in_channels=4, out_channels=2)\n",
    "        self.classifier = Linear(2, 20)\n",
    "\n",
    "    def forward(self, x, edge_index):\n",
    "        h = self.conv1(x, edge_index)\n",
    "        h = h.tanh()\n",
    "        h = self.conv2(h, edge_index)\n",
    "        h = h.tanh()\n",
    "        h = self.conv3(h, edge_index)\n",
    "        h = h.tanh()  # Final GNN embedding space.\n",
    "        \n",
    "        # Apply a final (linear) classifier.\n",
    "        out = self.classifier(h)\n",
    "\n",
    "        return out, h\n",
    "\n",
    "model = GCN()\n",
    "print(model)"
   ]
  },
  {
   "cell_type": "code",
   "execution_count": null,
   "id": "artistic-india",
   "metadata": {},
   "outputs": [],
   "source": []
  }
 ],
 "metadata": {
  "kernelspec": {
   "display_name": "Python 3",
   "language": "python",
   "name": "python3"
  },
  "language_info": {
   "codemirror_mode": {
    "name": "ipython",
    "version": 3
   },
   "file_extension": ".py",
   "mimetype": "text/x-python",
   "name": "python",
   "nbconvert_exporter": "python",
   "pygments_lexer": "ipython3",
   "version": "3.7.9"
  }
 },
 "nbformat": 4,
 "nbformat_minor": 5
}
